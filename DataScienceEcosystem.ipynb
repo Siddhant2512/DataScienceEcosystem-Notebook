{
  "nbformat": 4,
  "nbformat_minor": 0,
  "metadata": {
    "colab": {
      "provenance": [],
      "authorship_tag": "ABX9TyNMPVfJ73bWcdk4VsmBn3dW",
      "include_colab_link": true
    },
    "kernelspec": {
      "name": "python3",
      "display_name": "Python 3"
    },
    "language_info": {
      "name": "python"
    }
  },
  "cells": [
    {
      "cell_type": "markdown",
      "metadata": {
        "id": "view-in-github",
        "colab_type": "text"
      },
      "source": [
        "<a href=\"https://colab.research.google.com/github/Siddhant2512/DataScienceEcosystem-Notebook/blob/main/DataScienceEcosystem.ipynb\" target=\"_parent\"><img src=\"https://colab.research.google.com/assets/colab-badge.svg\" alt=\"Open In Colab\"/></a>"
      ]
    },
    {
      "cell_type": "markdown",
      "source": [
        "<h1>Data Science Tools and Ecosystem</h1>\n",
        "\n",
        "\n",
        "\n"
      ],
      "metadata": {
        "id": "isLFWDhcIB7Z"
      }
    },
    {
      "cell_type": "markdown",
      "source": [
        "In this notebook, Data Science Tools and Ecosystem are summarized."
      ],
      "metadata": {
        "id": "_9s3NnWiIwGv"
      }
    },
    {
      "cell_type": "markdown",
      "source": [
        "**Objectives:**\n",
        "\n",
        "\n",
        "\n",
        "*   Some of the popular languages that Data Scientists use are\n",
        "*   Some of the commonly used libraries used by Data Scientists include\n",
        "*   Some common Data Science Tools\n",
        "*   A few examples of evaluating arithmetic expressions in Python\n",
        "\n"
      ],
      "metadata": {
        "id": "XOWwYcfxK9ag"
      }
    },
    {
      "cell_type": "markdown",
      "source": [
        "Some of the popular languages that Data Scientists use are:\n",
        "\n",
        "\n",
        "1.   Python\n",
        "2.   R\n",
        "3.   C++\n",
        "\n",
        "\n",
        "\n"
      ],
      "metadata": {
        "id": "4pnwvn5OI0YV"
      }
    },
    {
      "cell_type": "markdown",
      "source": [
        "Some of the commonly used libraries used by Data Scientists include:\n",
        "\n",
        "\n",
        "1.   Scikit-Learn\n",
        "2.   PyTorch\n",
        "3.   OpenCV\n"
      ],
      "metadata": {
        "id": "ViAleDYxJNud"
      }
    },
    {
      "cell_type": "markdown",
      "source": [
        "Data Science Tools:\n",
        "\n",
        "\n",
        "1.   Jupyter Notebooks\n",
        "2.   Pandas\n",
        "3.   R Studio\n",
        "\n"
      ],
      "metadata": {
        "id": "iSLJToMSJXT7"
      }
    },
    {
      "cell_type": "markdown",
      "source": [
        "<h3>Below are a few examples of evaluating arithmetic expressions in Python:</h3>\n"
      ],
      "metadata": {
        "id": "W1ddmxQVKCrW"
      }
    },
    {
      "cell_type": "code",
      "source": [
        "#This a simple arithmetic expression to mutiply then add integers\n",
        "\n",
        "(3*4)+5"
      ],
      "metadata": {
        "colab": {
          "base_uri": "https://localhost:8080/"
        },
        "id": "L8EDvxNYKOTs",
        "outputId": "543598dc-5912-4cf3-8089-54b6edd1f398"
      },
      "execution_count": 1,
      "outputs": [
        {
          "output_type": "execute_result",
          "data": {
            "text/plain": [
              "17"
            ]
          },
          "metadata": {},
          "execution_count": 1
        }
      ]
    },
    {
      "cell_type": "code",
      "source": [
        "# This will convert 200 minutes to hours by diving by 60\n",
        "\n",
        "200/60"
      ],
      "metadata": {
        "colab": {
          "base_uri": "https://localhost:8080/"
        },
        "id": "hyhkno_IKsIo",
        "outputId": "110bb5e5-658c-404f-8625-872971f73a24"
      },
      "execution_count": 2,
      "outputs": [
        {
          "output_type": "execute_result",
          "data": {
            "text/plain": [
              "3.3333333333333335"
            ]
          },
          "metadata": {},
          "execution_count": 2
        }
      ]
    },
    {
      "cell_type": "markdown",
      "source": [
        "<h2>Author</h2>\n",
        "SIDDHANT AGGARWAL"
      ],
      "metadata": {
        "id": "XvFIK4mWLiEJ"
      }
    }
  ]
}